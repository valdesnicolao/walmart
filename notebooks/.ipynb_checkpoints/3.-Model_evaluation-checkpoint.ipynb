{
 "cells": [
  {
   "cell_type": "markdown",
   "metadata": {},
   "source": [
    "# Model Evaluation"
   ]
  },
  {
   "cell_type": "code",
   "execution_count": 37,
   "metadata": {},
   "outputs": [],
   "source": [
    "import pandas as pd\n",
    "import matplotlib.pyplot as plt\n",
    "import numpy as  np\n",
    "import seaborn as sns\n",
    "sns.set(style=\"whitegrid\", color_codes=True)\n",
    "\n",
    "path='../2018_01_23_datos_walmart/'\n",
    "df_test = pd.read_csv(path +'test.csv', index_col=0)\n",
    "df_test.index = pd.to_datetime(df_test.date)\n",
    "df_test.drop(labels=['date'], inplace=True, axis=1)\n",
    "\n",
    "df_train = pd.read_csv(path +'1_data.csv', index_col=0)\n",
    "df_train.index = pd.to_datetime(df_train.index)"
   ]
  },
  {
   "cell_type": "code",
   "execution_count": 38,
   "metadata": {},
   "outputs": [
    {
     "data": {
      "text/html": [
       "<div>\n",
       "<style scoped>\n",
       "    .dataframe tbody tr th:only-of-type {\n",
       "        vertical-align: middle;\n",
       "    }\n",
       "\n",
       "    .dataframe tbody tr th {\n",
       "        vertical-align: top;\n",
       "    }\n",
       "\n",
       "    .dataframe thead th {\n",
       "        text-align: right;\n",
       "    }\n",
       "</style>\n",
       "<table border=\"1\" class=\"dataframe\">\n",
       "  <thead>\n",
       "    <tr style=\"text-align: right;\">\n",
       "      <th></th>\n",
       "      <th>store</th>\n",
       "      <th>item</th>\n",
       "    </tr>\n",
       "    <tr>\n",
       "      <th>date</th>\n",
       "      <th></th>\n",
       "      <th></th>\n",
       "    </tr>\n",
       "  </thead>\n",
       "  <tbody>\n",
       "    <tr>\n",
       "      <th>2018-01-01</th>\n",
       "      <td>1</td>\n",
       "      <td>1</td>\n",
       "    </tr>\n",
       "    <tr>\n",
       "      <th>2018-01-02</th>\n",
       "      <td>1</td>\n",
       "      <td>1</td>\n",
       "    </tr>\n",
       "    <tr>\n",
       "      <th>2018-01-03</th>\n",
       "      <td>1</td>\n",
       "      <td>1</td>\n",
       "    </tr>\n",
       "    <tr>\n",
       "      <th>2018-01-04</th>\n",
       "      <td>1</td>\n",
       "      <td>1</td>\n",
       "    </tr>\n",
       "    <tr>\n",
       "      <th>2018-01-05</th>\n",
       "      <td>1</td>\n",
       "      <td>1</td>\n",
       "    </tr>\n",
       "  </tbody>\n",
       "</table>\n",
       "</div>"
      ],
      "text/plain": [
       "            store  item\n",
       "date                   \n",
       "2018-01-01      1     1\n",
       "2018-01-02      1     1\n",
       "2018-01-03      1     1\n",
       "2018-01-04      1     1\n",
       "2018-01-05      1     1"
      ]
     },
     "execution_count": 38,
     "metadata": {},
     "output_type": "execute_result"
    }
   ],
   "source": [
    "def series_to_supervised(data, window=1, lag=1, dropnan=True):\n",
    "    cols, names = list(), list()\n",
    "    for i in range(window, 0, -1):\n",
    "        cols.append(data.shift(i))\n",
    "        names += [('%s(t-%d)' % (col, i)) for col in data.columns]\n",
    "    cols.append(data)\n",
    "    names += [('%s(t)' % (col)) for col in data.columns]\n",
    "    cols.append(data.shift(-lag))\n",
    "    names += [('%s(t+%d)' % (col, lag)) for col in data.columns]\n",
    "    agg = pd.concat(cols, axis=1)\n",
    "    agg.columns = names\n",
    "    if dropnan:\n",
    "        agg.dropna(inplace=True)\n",
    "    return agg\n",
    "\n",
    "def expand_df(df):\n",
    "    data = df.copy()\n",
    "    #data['month'] = data.index.month\n",
    "    #data['year'] = data.index.year\n",
    "    data['weekend'] = np.int32(data.index.dayofweek > 3)\n",
    "    return data\n",
    "\n",
    "\n",
    "df_test.head()"
   ]
  },
  {
   "cell_type": "code",
   "execution_count": 39,
   "metadata": {},
   "outputs": [],
   "source": [
    "import numpy as np\n",
    "\n",
    "window = 1\n",
    "lag = 0\n",
    "\n",
    "df_train = series_to_supervised(df_train, window=window, lag=lag)\n",
    "df_train = df_train[df_train.index.date==np.datetime64('2017-12-31')]"
   ]
  },
  {
   "cell_type": "code",
   "execution_count": 40,
   "metadata": {},
   "outputs": [],
   "source": [
    "columns_to_drop = [('%s(t+%d)' % (col, lag)) for col in ['Item', 'Local']]\n",
    "for i in range(window, 0, -1):\n",
    "    columns_to_drop += [('%s(t-%d)' % (col, i)) for col in ['Item', 'Local']]\n",
    "\n",
    "df_train.drop(labels=columns_to_drop, inplace=True, axis=1)\n",
    "df_train.drop(labels=['Venta(t+0)'], inplace=True, axis=1)\n",
    "df_train.rename({'Local(t)':'Local', 'Item(t)':'Item'}, inplace=True,axis='columns')\n"
   ]
  },
  {
   "cell_type": "code",
   "execution_count": 41,
   "metadata": {},
   "outputs": [],
   "source": [
    "X=expand_df(df_train)"
   ]
  },
  {
   "cell_type": "code",
   "execution_count": 42,
   "metadata": {},
   "outputs": [],
   "source": [
    "from sklearn.preprocessing import OneHotEncoder\n",
    "\n",
    "Local_ohe = OneHotEncoder()\n",
    "Item_ohe = OneHotEncoder()\n",
    "\n",
    "X_Local = pd.DataFrame(Local_ohe.fit_transform(X.Local.values.reshape(-1,1)).toarray())\n",
    "X_Item = pd.DataFrame(Item_ohe.fit_transform(X.Item.values.reshape(-1,1)).toarray())\n",
    "\n",
    "X = X.drop(['Local','Item'], axis=1)\n",
    "\n",
    "X_Local.columns=[u+str(v) for u,v in zip(['Local_']*87,range(1,88))]\n",
    "X_Item.columns=[u+str(v) for u,v in zip(['Item_']*123,range(1,124))]"
   ]
  },
  {
   "cell_type": "code",
   "execution_count": 44,
   "metadata": {},
   "outputs": [
    {
     "name": "stdout",
     "output_type": "stream",
     "text": [
      "[[1.0000e+00 3.3530e+03 4.8000e+01 ... 0.0000e+00 0.0000e+00 0.0000e+00]\n",
      " [1.0000e+00 4.1930e+03 4.5000e+01 ... 0.0000e+00 0.0000e+00 0.0000e+00]\n",
      " [1.0000e+00 6.7140e+03 4.0000e+00 ... 0.0000e+00 0.0000e+00 0.0000e+00]\n",
      " ...\n",
      " [1.0000e+00 5.0340e+03 9.0000e+00 ... 0.0000e+00 0.0000e+00 0.0000e+00]\n",
      " [3.0000e+00 1.5102e+04 1.6000e+01 ... 0.0000e+00 0.0000e+00 0.0000e+00]\n",
      " [3.0000e+00 5.0160e+03 5.4000e+01 ... 0.0000e+00 0.0000e+00 0.0000e+00]]\n"
     ]
    }
   ],
   "source": [
    "X = np.concatenate([X,X_Item,X_Local],axis=1)\n",
    "\n",
    "print X"
   ]
  },
  {
   "cell_type": "code",
   "execution_count": null,
   "metadata": {},
   "outputs": [],
   "source": []
  }
 ],
 "metadata": {
  "kernelspec": {
   "display_name": "Python 2",
   "language": "python",
   "name": "python2"
  },
  "language_info": {
   "codemirror_mode": {
    "name": "ipython",
    "version": 2
   },
   "file_extension": ".py",
   "mimetype": "text/x-python",
   "name": "python",
   "nbconvert_exporter": "python",
   "pygments_lexer": "ipython2",
   "version": "2.7.15rc1"
  }
 },
 "nbformat": 4,
 "nbformat_minor": 2
}
