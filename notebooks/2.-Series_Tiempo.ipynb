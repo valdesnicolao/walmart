{
 "cells": [
  {
   "cell_type": "markdown",
   "metadata": {},
   "source": [
    "# Neural Time Series Forescasting"
   ]
  },
  {
   "cell_type": "code",
   "execution_count": 1,
   "metadata": {},
   "outputs": [],
   "source": [
    "import pandas as pd\n",
    "import matplotlib.pyplot as plt\n",
    "import numpy as  np\n",
    "import seaborn as sns\n",
    "sns.set(style=\"whitegrid\", color_codes=True)\n",
    "\n",
    "path='../data/kaggle/'\n",
    "df_train = pd.read_csv(path +'train.csv', index_col=0)\n",
    "df_train.index = pd.to_datetime(df_train.index)\n"
   ]
  },
  {
   "cell_type": "markdown",
   "metadata": {},
   "source": [
    "De manera de utilizar redes neuronales, debemos convertir las series de tiempo en un problema de aprendizaje supervisado. "
   ]
  },
  {
   "cell_type": "code",
   "execution_count": 2,
   "metadata": {},
   "outputs": [],
   "source": [
    "def series_to_supervised(data, window=1, lag=1, dropnan=True):\n",
    "    cols, names = list(), list()\n",
    "    # Input sequence (t-n, ... t-1)\n",
    "    for i in range(window, 0, -1):\n",
    "        cols.append(data.shift(i))\n",
    "        names += [('%s(t-%d)' % (col, i)) for col in data.columns]\n",
    "    # Current timestep (t=0)\n",
    "    cols.append(data)\n",
    "    names += [('%s(t)' % (col)) for col in data.columns]\n",
    "    # Target timestep (t=lag)\n",
    "    cols.append(data.shift(-lag))\n",
    "    names += [('%s(t+%d)' % (col, lag)) for col in data.columns]\n",
    "    # Put it all together\n",
    "    agg = pd.concat(cols, axis=1)\n",
    "    agg.columns = names\n",
    "    # Drop rows with NaN values\n",
    "    if dropnan:\n",
    "        agg.dropna(inplace=True)\n",
    "    return agg\n",
    "\n",
    "window = 1\n",
    "lag = 1\n",
    "df_train = series_to_supervised(df_train, window=window, lag=lag)"
   ]
  },
  {
   "cell_type": "code",
   "execution_count": 3,
   "metadata": {},
   "outputs": [
    {
     "data": {
      "text/html": [
       "<div>\n",
       "<style scoped>\n",
       "    .dataframe tbody tr th:only-of-type {\n",
       "        vertical-align: middle;\n",
       "    }\n",
       "\n",
       "    .dataframe tbody tr th {\n",
       "        vertical-align: top;\n",
       "    }\n",
       "\n",
       "    .dataframe thead th {\n",
       "        text-align: right;\n",
       "    }\n",
       "</style>\n",
       "<table border=\"1\" class=\"dataframe\">\n",
       "  <thead>\n",
       "    <tr style=\"text-align: right;\">\n",
       "      <th></th>\n",
       "      <th>store(t-1)</th>\n",
       "      <th>item(t-1)</th>\n",
       "      <th>sales(t-1)</th>\n",
       "      <th>store(t)</th>\n",
       "      <th>item(t)</th>\n",
       "      <th>sales(t)</th>\n",
       "      <th>store(t+1)</th>\n",
       "      <th>item(t+1)</th>\n",
       "      <th>sales(t+1)</th>\n",
       "    </tr>\n",
       "    <tr>\n",
       "      <th>date</th>\n",
       "      <th></th>\n",
       "      <th></th>\n",
       "      <th></th>\n",
       "      <th></th>\n",
       "      <th></th>\n",
       "      <th></th>\n",
       "      <th></th>\n",
       "      <th></th>\n",
       "      <th></th>\n",
       "    </tr>\n",
       "  </thead>\n",
       "  <tbody>\n",
       "    <tr>\n",
       "      <th>2013-01-02</th>\n",
       "      <td>1.0</td>\n",
       "      <td>1.0</td>\n",
       "      <td>13.0</td>\n",
       "      <td>1</td>\n",
       "      <td>1</td>\n",
       "      <td>11</td>\n",
       "      <td>1.0</td>\n",
       "      <td>1.0</td>\n",
       "      <td>14.0</td>\n",
       "    </tr>\n",
       "    <tr>\n",
       "      <th>2013-01-03</th>\n",
       "      <td>1.0</td>\n",
       "      <td>1.0</td>\n",
       "      <td>11.0</td>\n",
       "      <td>1</td>\n",
       "      <td>1</td>\n",
       "      <td>14</td>\n",
       "      <td>1.0</td>\n",
       "      <td>1.0</td>\n",
       "      <td>13.0</td>\n",
       "    </tr>\n",
       "    <tr>\n",
       "      <th>2013-01-04</th>\n",
       "      <td>1.0</td>\n",
       "      <td>1.0</td>\n",
       "      <td>14.0</td>\n",
       "      <td>1</td>\n",
       "      <td>1</td>\n",
       "      <td>13</td>\n",
       "      <td>1.0</td>\n",
       "      <td>1.0</td>\n",
       "      <td>10.0</td>\n",
       "    </tr>\n",
       "    <tr>\n",
       "      <th>2013-01-05</th>\n",
       "      <td>1.0</td>\n",
       "      <td>1.0</td>\n",
       "      <td>13.0</td>\n",
       "      <td>1</td>\n",
       "      <td>1</td>\n",
       "      <td>10</td>\n",
       "      <td>1.0</td>\n",
       "      <td>1.0</td>\n",
       "      <td>12.0</td>\n",
       "    </tr>\n",
       "    <tr>\n",
       "      <th>2013-01-06</th>\n",
       "      <td>1.0</td>\n",
       "      <td>1.0</td>\n",
       "      <td>10.0</td>\n",
       "      <td>1</td>\n",
       "      <td>1</td>\n",
       "      <td>12</td>\n",
       "      <td>1.0</td>\n",
       "      <td>1.0</td>\n",
       "      <td>10.0</td>\n",
       "    </tr>\n",
       "  </tbody>\n",
       "</table>\n",
       "</div>"
      ],
      "text/plain": [
       "            store(t-1)  item(t-1)  sales(t-1)  store(t)  item(t)  sales(t)  \\\n",
       "date                                                                         \n",
       "2013-01-02         1.0        1.0        13.0         1        1        11   \n",
       "2013-01-03         1.0        1.0        11.0         1        1        14   \n",
       "2013-01-04         1.0        1.0        14.0         1        1        13   \n",
       "2013-01-05         1.0        1.0        13.0         1        1        10   \n",
       "2013-01-06         1.0        1.0        10.0         1        1        12   \n",
       "\n",
       "            store(t+1)  item(t+1)  sales(t+1)  \n",
       "date                                           \n",
       "2013-01-02         1.0        1.0        14.0  \n",
       "2013-01-03         1.0        1.0        13.0  \n",
       "2013-01-04         1.0        1.0        10.0  \n",
       "2013-01-05         1.0        1.0        12.0  \n",
       "2013-01-06         1.0        1.0        10.0  "
      ]
     },
     "execution_count": 3,
     "metadata": {},
     "output_type": "execute_result"
    }
   ],
   "source": [
    "df_train.head()"
   ]
  },
  {
   "cell_type": "code",
   "execution_count": 4,
   "metadata": {},
   "outputs": [
    {
     "name": "stdout",
     "output_type": "stream",
     "text": [
      "(912998, 9)\n"
     ]
    }
   ],
   "source": [
    "print df_train.shape"
   ]
  },
  {
   "cell_type": "code",
   "execution_count": 5,
   "metadata": {},
   "outputs": [
    {
     "name": "stdout",
     "output_type": "stream",
     "text": [
      "Index([u'store(t-1)', u'item(t-1)', u'sales(t-1)', u'store(t)', u'item(t)',\n",
      "       u'sales(t)', u'store(t+1)', u'item(t+1)', u'sales(t+1)'],\n",
      "      dtype='object')\n"
     ]
    }
   ],
   "source": [
    "print df_train.columns"
   ]
  },
  {
   "cell_type": "code",
   "execution_count": 6,
   "metadata": {},
   "outputs": [
    {
     "name": "stdout",
     "output_type": "stream",
     "text": [
      "['item(t+1)', 'store(t+1)', 'item(t-1)', 'store(t-1)']\n"
     ]
    }
   ],
   "source": [
    "columns_to_drop = [('%s(t+%d)' % (col, lag)) for col in ['item', 'store']]\n",
    "for i in range(window, 0, -1):\n",
    "    columns_to_drop += [('%s(t-%d)' % (col, i)) for col in ['item', 'store']]\n",
    "    \n",
    "print columns_to_drop"
   ]
  },
  {
   "cell_type": "code",
   "execution_count": 7,
   "metadata": {},
   "outputs": [
    {
     "data": {
      "text/html": [
       "<div>\n",
       "<style scoped>\n",
       "    .dataframe tbody tr th:only-of-type {\n",
       "        vertical-align: middle;\n",
       "    }\n",
       "\n",
       "    .dataframe tbody tr th {\n",
       "        vertical-align: top;\n",
       "    }\n",
       "\n",
       "    .dataframe thead th {\n",
       "        text-align: right;\n",
       "    }\n",
       "</style>\n",
       "<table border=\"1\" class=\"dataframe\">\n",
       "  <thead>\n",
       "    <tr style=\"text-align: right;\">\n",
       "      <th></th>\n",
       "      <th>sales(t-1)</th>\n",
       "      <th>store</th>\n",
       "      <th>item</th>\n",
       "      <th>sales(t)</th>\n",
       "      <th>sales(t+1)</th>\n",
       "    </tr>\n",
       "    <tr>\n",
       "      <th>date</th>\n",
       "      <th></th>\n",
       "      <th></th>\n",
       "      <th></th>\n",
       "      <th></th>\n",
       "      <th></th>\n",
       "    </tr>\n",
       "  </thead>\n",
       "  <tbody>\n",
       "    <tr>\n",
       "      <th>2017-12-26</th>\n",
       "      <td>51.0</td>\n",
       "      <td>10</td>\n",
       "      <td>50</td>\n",
       "      <td>41</td>\n",
       "      <td>63.0</td>\n",
       "    </tr>\n",
       "    <tr>\n",
       "      <th>2017-12-27</th>\n",
       "      <td>41.0</td>\n",
       "      <td>10</td>\n",
       "      <td>50</td>\n",
       "      <td>63</td>\n",
       "      <td>59.0</td>\n",
       "    </tr>\n",
       "    <tr>\n",
       "      <th>2017-12-28</th>\n",
       "      <td>63.0</td>\n",
       "      <td>10</td>\n",
       "      <td>50</td>\n",
       "      <td>59</td>\n",
       "      <td>74.0</td>\n",
       "    </tr>\n",
       "    <tr>\n",
       "      <th>2017-12-29</th>\n",
       "      <td>59.0</td>\n",
       "      <td>10</td>\n",
       "      <td>50</td>\n",
       "      <td>74</td>\n",
       "      <td>62.0</td>\n",
       "    </tr>\n",
       "    <tr>\n",
       "      <th>2017-12-30</th>\n",
       "      <td>74.0</td>\n",
       "      <td>10</td>\n",
       "      <td>50</td>\n",
       "      <td>62</td>\n",
       "      <td>82.0</td>\n",
       "    </tr>\n",
       "  </tbody>\n",
       "</table>\n",
       "</div>"
      ],
      "text/plain": [
       "            sales(t-1)  store  item  sales(t)  sales(t+1)\n",
       "date                                                     \n",
       "2017-12-26        51.0     10    50        41        63.0\n",
       "2017-12-27        41.0     10    50        63        59.0\n",
       "2017-12-28        63.0     10    50        59        74.0\n",
       "2017-12-29        59.0     10    50        74        62.0\n",
       "2017-12-30        74.0     10    50        62        82.0"
      ]
     },
     "execution_count": 7,
     "metadata": {},
     "output_type": "execute_result"
    }
   ],
   "source": [
    "df_train.drop(labels=columns_to_drop, inplace=True, axis=1)\n",
    "df_train.rename({'store(t)':'store', 'item(t)':'item'}, inplace=True,axis='columns')\n",
    "df_train.tail()"
   ]
  },
  {
   "cell_type": "markdown",
   "metadata": {},
   "source": [
    "Incorporamos información foránea al modelo. En este caso, convertimos la fecha en dia, mes, año y día de la semana."
   ]
  },
  {
   "cell_type": "code",
   "execution_count": 8,
   "metadata": {},
   "outputs": [
    {
     "data": {
      "text/html": [
       "<div>\n",
       "<style scoped>\n",
       "    .dataframe tbody tr th:only-of-type {\n",
       "        vertical-align: middle;\n",
       "    }\n",
       "\n",
       "    .dataframe tbody tr th {\n",
       "        vertical-align: top;\n",
       "    }\n",
       "\n",
       "    .dataframe thead th {\n",
       "        text-align: right;\n",
       "    }\n",
       "</style>\n",
       "<table border=\"1\" class=\"dataframe\">\n",
       "  <thead>\n",
       "    <tr style=\"text-align: right;\">\n",
       "      <th></th>\n",
       "      <th>sales(t-1)</th>\n",
       "      <th>store</th>\n",
       "      <th>item</th>\n",
       "      <th>sales(t)</th>\n",
       "      <th>sales(t+1)</th>\n",
       "      <th>weekend</th>\n",
       "    </tr>\n",
       "    <tr>\n",
       "      <th>date</th>\n",
       "      <th></th>\n",
       "      <th></th>\n",
       "      <th></th>\n",
       "      <th></th>\n",
       "      <th></th>\n",
       "      <th></th>\n",
       "    </tr>\n",
       "  </thead>\n",
       "  <tbody>\n",
       "    <tr>\n",
       "      <th>2017-12-26</th>\n",
       "      <td>51.0</td>\n",
       "      <td>10</td>\n",
       "      <td>50</td>\n",
       "      <td>41</td>\n",
       "      <td>63.0</td>\n",
       "      <td>0</td>\n",
       "    </tr>\n",
       "    <tr>\n",
       "      <th>2017-12-27</th>\n",
       "      <td>41.0</td>\n",
       "      <td>10</td>\n",
       "      <td>50</td>\n",
       "      <td>63</td>\n",
       "      <td>59.0</td>\n",
       "      <td>0</td>\n",
       "    </tr>\n",
       "    <tr>\n",
       "      <th>2017-12-28</th>\n",
       "      <td>63.0</td>\n",
       "      <td>10</td>\n",
       "      <td>50</td>\n",
       "      <td>59</td>\n",
       "      <td>74.0</td>\n",
       "      <td>0</td>\n",
       "    </tr>\n",
       "    <tr>\n",
       "      <th>2017-12-29</th>\n",
       "      <td>59.0</td>\n",
       "      <td>10</td>\n",
       "      <td>50</td>\n",
       "      <td>74</td>\n",
       "      <td>62.0</td>\n",
       "      <td>1</td>\n",
       "    </tr>\n",
       "    <tr>\n",
       "      <th>2017-12-30</th>\n",
       "      <td>74.0</td>\n",
       "      <td>10</td>\n",
       "      <td>50</td>\n",
       "      <td>62</td>\n",
       "      <td>82.0</td>\n",
       "      <td>1</td>\n",
       "    </tr>\n",
       "  </tbody>\n",
       "</table>\n",
       "</div>"
      ],
      "text/plain": [
       "            sales(t-1)  store  item  sales(t)  sales(t+1)  weekend\n",
       "date                                                              \n",
       "2017-12-26        51.0     10    50        41        63.0        0\n",
       "2017-12-27        41.0     10    50        63        59.0        0\n",
       "2017-12-28        63.0     10    50        59        74.0        0\n",
       "2017-12-29        59.0     10    50        74        62.0        1\n",
       "2017-12-30        74.0     10    50        62        82.0        1"
      ]
     },
     "execution_count": 8,
     "metadata": {},
     "output_type": "execute_result"
    }
   ],
   "source": [
    "def expand_df(df):\n",
    "    data = df.copy()\n",
    "    #data['month'] = data.index.month\n",
    "    #data['year'] = data.index.year\n",
    "    data['weekend'] = np.int32(data.index.dayofweek > 3)\n",
    "    return data\n",
    "\n",
    "df_train=expand_df(df_train)\n",
    "df_train.tail()"
   ]
  },
  {
   "cell_type": "markdown",
   "metadata": {},
   "source": [
    "A continuacion, separamos la variable dependientes $y$ de las independentes $X$. En este caso, la etiqueta corresponde a la columna : sales(t+1)"
   ]
  },
  {
   "cell_type": "code",
   "execution_count": 9,
   "metadata": {},
   "outputs": [],
   "source": [
    "labels_col = 'sales(t+%d)' % lag\n",
    "\n",
    "X = df_train.drop(labels_col, axis=1)\n",
    "y = df_train[labels_col]"
   ]
  },
  {
   "cell_type": "markdown",
   "metadata": {},
   "source": [
    "Transformamos las etiquetas store e item en variables categoricas"
   ]
  },
  {
   "cell_type": "code",
   "execution_count": 10,
   "metadata": {},
   "outputs": [],
   "source": [
    "from sklearn.preprocessing import OneHotEncoder\n",
    "\n",
    "store_ohe = OneHotEncoder()\n",
    "item_ohe = OneHotEncoder()\n",
    "\n",
    "X_store = pd.DataFrame(store_ohe.fit_transform(X.store.values.reshape(-1,1)).toarray())\n",
    "X_items = pd.DataFrame(item_ohe.fit_transform(X.item.values.reshape(-1,1)).toarray())\n",
    "\n",
    "X = X.drop(['store','item'], axis=1)\n",
    "\n",
    "X_store.columns=[u+str(v) for u,v in zip(['store_']*10,range(1,11))]\n",
    "X_items.columns=[u+str(v) for u,v in zip(['item_']*50,range(1,51))]\n",
    "\n"
   ]
  },
  {
   "cell_type": "code",
   "execution_count": 11,
   "metadata": {},
   "outputs": [
    {
     "name": "stdout",
     "output_type": "stream",
     "text": [
      "(912998, 63)\n",
      "(912998,)\n"
     ]
    }
   ],
   "source": [
    "X = np.concatenate([X,X_items,X_store],axis=1)\n",
    "y = y.values\n",
    "\n",
    "print X.shape\n",
    "print y.shape"
   ]
  },
  {
   "cell_type": "code",
   "execution_count": 153,
   "metadata": {},
   "outputs": [
    {
     "name": "stdout",
     "output_type": "stream",
     "text": [
      "('Train set shape', (730398, 63))\n",
      "('Validation set shape', (182600, 63))\n",
      "(730398, 1, 63)\n"
     ]
    }
   ],
   "source": [
    "from sklearn.model_selection import train_test_split\n",
    "\n",
    "X_train, X_test, y_train, y_test = train_test_split(X,y, test_size=0.2, random_state=0)\n",
    "print('Train set shape', X_train.shape)\n",
    "print('Validation set shape', X_test.shape)\n",
    "\n",
    "# convertir a tensor\n",
    "X_train=X_train.reshape((X_train.shape[0],1,X_train.shape[1]))\n",
    "X_test=X_test.reshape((X_test.shape[0],1,X_test.shape[1]))\n",
    "print X_train.shape"
   ]
  },
  {
   "cell_type": "markdown",
   "metadata": {},
   "source": [
    "# LSTM Model Training"
   ]
  },
  {
   "cell_type": "code",
   "execution_count": 154,
   "metadata": {},
   "outputs": [
    {
     "name": "stdout",
     "output_type": "stream",
     "text": [
      "_________________________________________________________________\n",
      "Layer (type)                 Output Shape              Param #   \n",
      "=================================================================\n",
      "lstm_5 (LSTM)                (None, 50)                22800     \n",
      "_________________________________________________________________\n",
      "dense_5 (Dense)              (None, 1)                 51        \n",
      "=================================================================\n",
      "Total params: 22,851\n",
      "Trainable params: 22,851\n",
      "Non-trainable params: 0\n",
      "_________________________________________________________________\n"
     ]
    }
   ],
   "source": [
    "import keras\n",
    "from keras.layers import Dense\n",
    "from keras.models import Sequential\n",
    "from keras.utils import np_utils\n",
    "import itertools\n",
    "from keras.layers import LSTM\n",
    "from keras import optimizers\n",
    "import keras.backend as K\n",
    "\n",
    "def mean_pred(y_true, y_pred):\n",
    "    return K.mean(y_pred)\n",
    "\n",
    "epochs = 40\n",
    "batch_size = 256\n",
    "lr = 0.0003\n",
    "\n",
    "model = Sequential()\n",
    "model.add(LSTM(50, activation='relu', input_shape=(X_train.shape[1], X_train.shape[2])))\n",
    "model.add(Dense(1))\n",
    "model.compile(loss='mse',optimizer=\"rmsprop\", metrics=['mape'])\n",
    "model.summary()"
   ]
  },
  {
   "cell_type": "code",
   "execution_count": 155,
   "metadata": {},
   "outputs": [
    {
     "name": "stdout",
     "output_type": "stream",
     "text": [
      "Train on 730398 samples, validate on 182600 samples\n",
      "Epoch 1/40\n",
      "730398/730398 [==============================] - 50s 68us/step - loss: 9.1244 - val_loss: 9.0255\n",
      "Epoch 2/40\n",
      "730398/730398 [==============================] - 48s 66us/step - loss: 8.9388 - val_loss: 8.8851\n",
      "Epoch 3/40\n",
      "730398/730398 [==============================] - 49s 67us/step - loss: 8.9253 - val_loss: 8.9224\n",
      "Epoch 4/40\n",
      "730398/730398 [==============================] - 49s 67us/step - loss: 8.9165 - val_loss: 8.8944\n",
      "Epoch 5/40\n",
      "730398/730398 [==============================] - 50s 69us/step - loss: 8.9094 - val_loss: 8.9495\n",
      "Epoch 6/40\n",
      "730398/730398 [==============================] - 49s 68us/step - loss: 8.9016 - val_loss: 8.8564\n",
      "Epoch 7/40\n",
      "730398/730398 [==============================] - 48s 66us/step - loss: 8.8891 - val_loss: 8.8611\n",
      "Epoch 8/40\n",
      "730398/730398 [==============================] - 48s 66us/step - loss: 8.8789 - val_loss: 8.8506\n",
      "Epoch 9/40\n",
      "730398/730398 [==============================] - 48s 66us/step - loss: 8.8753 - val_loss: 8.8961\n",
      "Epoch 10/40\n",
      "730398/730398 [==============================] - 51s 70us/step - loss: 8.8687 - val_loss: 8.9205\n",
      "Epoch 11/40\n",
      "730398/730398 [==============================] - 49s 67us/step - loss: 8.8653 - val_loss: 8.8482\n",
      "Epoch 12/40\n",
      "730398/730398 [==============================] - 50s 68us/step - loss: 8.8649 - val_loss: 8.8397\n",
      "Epoch 13/40\n",
      "730398/730398 [==============================] - 50s 68us/step - loss: 8.8591 - val_loss: 8.8427\n",
      "Epoch 14/40\n",
      "730398/730398 [==============================] - 51s 69us/step - loss: 8.8583 - val_loss: 8.8502\n",
      "Epoch 15/40\n",
      "730398/730398 [==============================] - 49s 67us/step - loss: 8.8546 - val_loss: 8.8296\n",
      "Epoch 16/40\n",
      "730398/730398 [==============================] - 50s 68us/step - loss: 8.8531 - val_loss: 8.8504\n",
      "Epoch 17/40\n",
      "730398/730398 [==============================] - 51s 69us/step - loss: 8.8488 - val_loss: 8.8663\n",
      "Epoch 18/40\n",
      "730398/730398 [==============================] - 50s 69us/step - loss: 8.8442 - val_loss: 8.8208\n",
      "Epoch 19/40\n",
      "730398/730398 [==============================] - 49s 67us/step - loss: 8.8410 - val_loss: 8.8731\n",
      "Epoch 20/40\n",
      "730398/730398 [==============================] - 50s 68us/step - loss: 8.8354 - val_loss: 8.8732\n",
      "Epoch 21/40\n",
      "730398/730398 [==============================] - 51s 69us/step - loss: 8.8278 - val_loss: 8.8205\n",
      "Epoch 22/40\n",
      "730398/730398 [==============================] - 51s 69us/step - loss: 8.8237 - val_loss: 8.8488\n",
      "Epoch 23/40\n",
      "730398/730398 [==============================] - 51s 70us/step - loss: 8.8172 - val_loss: 8.8030\n",
      "Epoch 24/40\n",
      "730398/730398 [==============================] - 52s 71us/step - loss: 8.8142 - val_loss: 8.7866\n",
      "Epoch 25/40\n",
      "730398/730398 [==============================] - 51s 69us/step - loss: 8.8124 - val_loss: 8.9086\n",
      "Epoch 26/40\n",
      "730398/730398 [==============================] - 51s 70us/step - loss: 8.8092 - val_loss: 8.9787\n",
      "Epoch 27/40\n",
      "730398/730398 [==============================] - 50s 68us/step - loss: 8.8057 - val_loss: 8.8319\n",
      "Epoch 28/40\n",
      "730398/730398 [==============================] - 51s 70us/step - loss: 8.8041 - val_loss: 8.9129\n",
      "Epoch 29/40\n",
      "730398/730398 [==============================] - 51s 69us/step - loss: 8.8038 - val_loss: 8.8949\n",
      "Epoch 30/40\n",
      "730398/730398 [==============================] - 51s 69us/step - loss: 8.8066 - val_loss: 8.8074\n",
      "Epoch 31/40\n",
      "730398/730398 [==============================] - 50s 68us/step - loss: 8.8026 - val_loss: 8.8275\n",
      "Epoch 32/40\n",
      "730398/730398 [==============================] - 51s 70us/step - loss: 8.8009 - val_loss: 8.7978\n",
      "Epoch 33/40\n",
      "730398/730398 [==============================] - 51s 69us/step - loss: 8.8006 - val_loss: 8.7910\n",
      "Epoch 34/40\n",
      "730398/730398 [==============================] - 51s 69us/step - loss: 8.7974 - val_loss: 8.8243\n",
      "Epoch 35/40\n",
      "730398/730398 [==============================] - 50s 69us/step - loss: 8.7984 - val_loss: 8.7938\n",
      "Epoch 36/40\n",
      "730398/730398 [==============================] - 51s 70us/step - loss: 8.7981 - val_loss: 8.8392\n",
      "Epoch 37/40\n",
      "730398/730398 [==============================] - 51s 70us/step - loss: 8.7982 - val_loss: 8.7874\n",
      "Epoch 38/40\n",
      "730398/730398 [==============================] - 51s 70us/step - loss: 8.7966 - val_loss: 8.7913\n",
      "Epoch 39/40\n",
      "730398/730398 [==============================] - 48s 66us/step - loss: 8.7947 - val_loss: 8.8069\n",
      "Epoch 40/40\n",
      "730398/730398 [==============================] - 48s 66us/step - loss: 8.7930 - val_loss: 8.7882\n"
     ]
    }
   ],
   "source": [
    "history = model.fit(X_train, y_train, validation_data=(X_test,y_test), epochs=epochs, verbose=1)"
   ]
  },
  {
   "cell_type": "code",
   "execution_count": 49,
   "metadata": {},
   "outputs": [],
   "source": [
    "model.save('lstm_continuous_input.h5')"
   ]
  }
 ],
 "metadata": {
  "kernelspec": {
   "display_name": "Python 2",
   "language": "python",
   "name": "python2"
  },
  "language_info": {
   "codemirror_mode": {
    "name": "ipython",
    "version": 2
   },
   "file_extension": ".py",
   "mimetype": "text/x-python",
   "name": "python",
   "nbconvert_exporter": "python",
   "pygments_lexer": "ipython2",
   "version": "2.7.12"
  }
 },
 "nbformat": 4,
 "nbformat_minor": 2
}
