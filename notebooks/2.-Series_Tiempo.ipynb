{
 "cells": [
  {
   "cell_type": "markdown",
   "metadata": {},
   "source": [
    "# Neural Time Series Forescasting"
   ]
  },
  {
   "cell_type": "code",
   "execution_count": 51,
   "metadata": {},
   "outputs": [
    {
     "data": {
      "text/plain": [
       "['Local', 'Item', 'Unidades', 'Venta', 'Inventario']"
      ]
     },
     "execution_count": 51,
     "metadata": {},
     "output_type": "execute_result"
    }
   ],
   "source": [
    "import pandas as pd\n",
    "import matplotlib.pyplot as plt\n",
    "import numpy as  np\n",
    "import seaborn as sns #estadisticas basicas de visualizacion\n",
    "\n",
    "sns.set(style=\"whitegrid\", color_codes=True)\n",
    "\n",
    "path='../2018_01_23_datos_walmart/'\n",
    "df_train = pd.read_csv(path +'1_data.csv', index_col=0)\n",
    "\n",
    "#sacar todos los Item que no sean 3,4,14,66,70,168,173,316,415,475\n",
    "items=[3,4,14,40,66,70,168,173,316,415,475]\n",
    "#df = df[df.Item==1]\n",
    "df_train=df_train[df_train['Item'].isin(items)]#los que se encuentran en el arreglo\n",
    "\n",
    "\n",
    "df_train.index = pd.to_datetime(df_train.index)\n",
    "df_train.shape #dimensionalidad\n",
    "\n",
    "df_train.columns.values.tolist()\n"
   ]
  },
  {
   "cell_type": "markdown",
   "metadata": {},
   "source": [
    "De manera de utilizar redes neuronales, debemos convertir las series de tiempo en un problema de aprendizaje supervisado. "
   ]
  },
  {
   "cell_type": "code",
   "execution_count": 52,
   "metadata": {},
   "outputs": [
    {
     "data": {
      "text/plain": [
       "['Local(t-1)',\n",
       " 'Item(t-1)',\n",
       " 'Unidades(t-1)',\n",
       " 'Venta(t-1)',\n",
       " 'Inventario(t-1)',\n",
       " 'Local(t)',\n",
       " 'Item(t)',\n",
       " 'Unidades(t)',\n",
       " 'Venta(t)',\n",
       " 'Inventario(t)',\n",
       " 'Local(t+1)',\n",
       " 'Item(t+1)',\n",
       " 'Unidades(t+1)',\n",
       " 'Venta(t+1)',\n",
       " 'Inventario(t+1)']"
      ]
     },
     "execution_count": 52,
     "metadata": {},
     "output_type": "execute_result"
    }
   ],
   "source": [
    "def series_to_supervised(data, window=1, lag=1, dropnan=True):\n",
    "    cols, names = list(), list()\n",
    "    # Input sequence (t-n, ... t-1)\n",
    "    for i in range(window, 0, -1):\n",
    "        cols.append(data.shift(i))\n",
    "        names += [('%s(t-%d)' % (col, i)) for col in data.columns]\n",
    "    # Current timestep (t=0)\n",
    "    cols.append(data)\n",
    "    names += [('%s(t)' % (col)) for col in data.columns]\n",
    "    # Target timestep (t=lag)\n",
    "    cols.append(data.shift(-lag))\n",
    "    names += [('%s(t+%d)' % (col, lag)) for col in data.columns]\n",
    "    # Put it all together\n",
    "    agg = pd.concat(cols, axis=1)\n",
    "    agg.columns = names\n",
    "    # Drop rows with NaN values\n",
    "    if dropnan:\n",
    "        agg.dropna(inplace=True)\n",
    "    return agg\n",
    "\n",
    "window = 1 # t - windows\n",
    "lag = 1 # t + lag\n",
    "df_train = series_to_supervised(df_train, window=window, lag=lag)\n",
    "df_train.columns.values.tolist()"
   ]
  },
  {
   "cell_type": "code",
   "execution_count": 59,
   "metadata": {},
   "outputs": [
    {
     "data": {
      "text/html": [
       "<div>\n",
       "<style scoped>\n",
       "    .dataframe tbody tr th:only-of-type {\n",
       "        vertical-align: middle;\n",
       "    }\n",
       "\n",
       "    .dataframe tbody tr th {\n",
       "        vertical-align: top;\n",
       "    }\n",
       "\n",
       "    .dataframe thead th {\n",
       "        text-align: right;\n",
       "    }\n",
       "</style>\n",
       "<table border=\"1\" class=\"dataframe\">\n",
       "  <thead>\n",
       "    <tr style=\"text-align: right;\">\n",
       "      <th></th>\n",
       "      <th>Unidades(t-1)</th>\n",
       "      <th>Venta(t-1)</th>\n",
       "      <th>Inventario(t-1)</th>\n",
       "      <th>Local</th>\n",
       "      <th>Item</th>\n",
       "      <th>Unidades(t)</th>\n",
       "      <th>Venta(t)</th>\n",
       "      <th>Inventario(t)</th>\n",
       "      <th>Unidades(t+1)</th>\n",
       "      <th>Venta(t+1)</th>\n",
       "      <th>Inventario(t+1)</th>\n",
       "      <th>weekend</th>\n",
       "    </tr>\n",
       "    <tr>\n",
       "      <th>Fecha</th>\n",
       "      <th></th>\n",
       "      <th></th>\n",
       "      <th></th>\n",
       "      <th></th>\n",
       "      <th></th>\n",
       "      <th></th>\n",
       "      <th></th>\n",
       "      <th></th>\n",
       "      <th></th>\n",
       "      <th></th>\n",
       "      <th></th>\n",
       "      <th></th>\n",
       "    </tr>\n",
       "  </thead>\n",
       "  <tbody>\n",
       "    <tr>\n",
       "      <th>2017-01-07</th>\n",
       "      <td>1.0</td>\n",
       "      <td>6714.0</td>\n",
       "      <td>76.0</td>\n",
       "      <td>75</td>\n",
       "      <td>173</td>\n",
       "      <td>2.0</td>\n",
       "      <td>13428.0</td>\n",
       "      <td>18.0</td>\n",
       "      <td>1.0</td>\n",
       "      <td>6714.0</td>\n",
       "      <td>82.0</td>\n",
       "      <td>1</td>\n",
       "    </tr>\n",
       "    <tr>\n",
       "      <th>2017-01-07</th>\n",
       "      <td>3.0</td>\n",
       "      <td>20142.0</td>\n",
       "      <td>61.0</td>\n",
       "      <td>69</td>\n",
       "      <td>173</td>\n",
       "      <td>3.0</td>\n",
       "      <td>20142.0</td>\n",
       "      <td>36.0</td>\n",
       "      <td>2.0</td>\n",
       "      <td>13428.0</td>\n",
       "      <td>90.0</td>\n",
       "      <td>1</td>\n",
       "    </tr>\n",
       "    <tr>\n",
       "      <th>2017-01-07</th>\n",
       "      <td>3.0</td>\n",
       "      <td>20142.0</td>\n",
       "      <td>36.0</td>\n",
       "      <td>69</td>\n",
       "      <td>14</td>\n",
       "      <td>2.0</td>\n",
       "      <td>13428.0</td>\n",
       "      <td>90.0</td>\n",
       "      <td>1.0</td>\n",
       "      <td>6714.0</td>\n",
       "      <td>68.0</td>\n",
       "      <td>1</td>\n",
       "    </tr>\n",
       "    <tr>\n",
       "      <th>2017-01-07</th>\n",
       "      <td>1.0</td>\n",
       "      <td>6714.0</td>\n",
       "      <td>70.0</td>\n",
       "      <td>82</td>\n",
       "      <td>173</td>\n",
       "      <td>1.0</td>\n",
       "      <td>6714.0</td>\n",
       "      <td>25.0</td>\n",
       "      <td>2.0</td>\n",
       "      <td>13428.0</td>\n",
       "      <td>89.0</td>\n",
       "      <td>1</td>\n",
       "    </tr>\n",
       "    <tr>\n",
       "      <th>2017-01-07</th>\n",
       "      <td>5.0</td>\n",
       "      <td>33570.0</td>\n",
       "      <td>32.0</td>\n",
       "      <td>58</td>\n",
       "      <td>14</td>\n",
       "      <td>1.0</td>\n",
       "      <td>6714.0</td>\n",
       "      <td>100.0</td>\n",
       "      <td>1.0</td>\n",
       "      <td>6714.0</td>\n",
       "      <td>22.0</td>\n",
       "      <td>1</td>\n",
       "    </tr>\n",
       "  </tbody>\n",
       "</table>\n",
       "</div>"
      ],
      "text/plain": [
       "            Unidades(t-1)  Venta(t-1)  Inventario(t-1)  Local  Item  \\\n",
       "Fecha                                                                 \n",
       "2017-01-07            1.0      6714.0             76.0     75   173   \n",
       "2017-01-07            3.0     20142.0             61.0     69   173   \n",
       "2017-01-07            3.0     20142.0             36.0     69    14   \n",
       "2017-01-07            1.0      6714.0             70.0     82   173   \n",
       "2017-01-07            5.0     33570.0             32.0     58    14   \n",
       "\n",
       "            Unidades(t)  Venta(t)  Inventario(t)  Unidades(t+1)  Venta(t+1)  \\\n",
       "Fecha                                                                         \n",
       "2017-01-07          2.0   13428.0           18.0            1.0      6714.0   \n",
       "2017-01-07          3.0   20142.0           36.0            2.0     13428.0   \n",
       "2017-01-07          2.0   13428.0           90.0            1.0      6714.0   \n",
       "2017-01-07          1.0    6714.0           25.0            2.0     13428.0   \n",
       "2017-01-07          1.0    6714.0          100.0            1.0      6714.0   \n",
       "\n",
       "            Inventario(t+1)  weekend  \n",
       "Fecha                                 \n",
       "2017-01-07             82.0        1  \n",
       "2017-01-07             90.0        1  \n",
       "2017-01-07             68.0        1  \n",
       "2017-01-07             89.0        1  \n",
       "2017-01-07             22.0        1  "
      ]
     },
     "execution_count": 59,
     "metadata": {},
     "output_type": "execute_result"
    }
   ],
   "source": [
    "df_train.head()"
   ]
  },
  {
   "cell_type": "code",
   "execution_count": 60,
   "metadata": {},
   "outputs": [
    {
     "name": "stdout",
     "output_type": "stream",
     "text": [
      "(9301, 12)\n"
     ]
    }
   ],
   "source": [
    "print df_train.shape"
   ]
  },
  {
   "cell_type": "code",
   "execution_count": 55,
   "metadata": {},
   "outputs": [
    {
     "name": "stdout",
     "output_type": "stream",
     "text": [
      "Index([u'Local(t-1)', u'Item(t-1)', u'Unidades(t-1)', u'Venta(t-1)',\n",
      "       u'Inventario(t-1)', u'Local(t)', u'Item(t)', u'Unidades(t)',\n",
      "       u'Venta(t)', u'Inventario(t)', u'Local(t+1)', u'Item(t+1)',\n",
      "       u'Unidades(t+1)', u'Venta(t+1)', u'Inventario(t+1)'],\n",
      "      dtype='object')\n"
     ]
    }
   ],
   "source": [
    "print df_train.columns"
   ]
  },
  {
   "cell_type": "code",
   "execution_count": 56,
   "metadata": {},
   "outputs": [
    {
     "name": "stdout",
     "output_type": "stream",
     "text": [
      "['Item(t+1)', 'Local(t+1)', 'Item(t-1)', 'Local(t-1)']\n"
     ]
    }
   ],
   "source": [
    "#barramos todos los valores que no son variables temporales, en este caso Item y Local\n",
    "\n",
    "columns_to_drop = [('%s(t+%d)' % (col, lag)) for col in ['Item', 'Local']]\n",
    "for i in range(window, 0, -1):\n",
    "    columns_to_drop += [('%s(t-%d)' % (col, i)) for col in ['Item', 'Local']]\n",
    "    \n",
    "print columns_to_drop"
   ]
  },
  {
   "cell_type": "code",
   "execution_count": 57,
   "metadata": {},
   "outputs": [
    {
     "data": {
      "text/html": [
       "<div>\n",
       "<style scoped>\n",
       "    .dataframe tbody tr th:only-of-type {\n",
       "        vertical-align: middle;\n",
       "    }\n",
       "\n",
       "    .dataframe tbody tr th {\n",
       "        vertical-align: top;\n",
       "    }\n",
       "\n",
       "    .dataframe thead th {\n",
       "        text-align: right;\n",
       "    }\n",
       "</style>\n",
       "<table border=\"1\" class=\"dataframe\">\n",
       "  <thead>\n",
       "    <tr style=\"text-align: right;\">\n",
       "      <th></th>\n",
       "      <th>Unidades(t-1)</th>\n",
       "      <th>Venta(t-1)</th>\n",
       "      <th>Inventario(t-1)</th>\n",
       "      <th>Local</th>\n",
       "      <th>Item</th>\n",
       "      <th>Unidades(t)</th>\n",
       "      <th>Venta(t)</th>\n",
       "      <th>Inventario(t)</th>\n",
       "      <th>Unidades(t+1)</th>\n",
       "      <th>Venta(t+1)</th>\n",
       "      <th>Inventario(t+1)</th>\n",
       "    </tr>\n",
       "    <tr>\n",
       "      <th>Fecha</th>\n",
       "      <th></th>\n",
       "      <th></th>\n",
       "      <th></th>\n",
       "      <th></th>\n",
       "      <th></th>\n",
       "      <th></th>\n",
       "      <th></th>\n",
       "      <th></th>\n",
       "      <th></th>\n",
       "      <th></th>\n",
       "      <th></th>\n",
       "    </tr>\n",
       "  </thead>\n",
       "  <tbody>\n",
       "    <tr>\n",
       "      <th>2018-03-31</th>\n",
       "      <td>1.0</td>\n",
       "      <td>3353.0</td>\n",
       "      <td>17.0</td>\n",
       "      <td>19</td>\n",
       "      <td>70</td>\n",
       "      <td>3.0</td>\n",
       "      <td>12579.0</td>\n",
       "      <td>44.0</td>\n",
       "      <td>4.0</td>\n",
       "      <td>33580.0</td>\n",
       "      <td>2.0</td>\n",
       "    </tr>\n",
       "    <tr>\n",
       "      <th>2018-03-31</th>\n",
       "      <td>3.0</td>\n",
       "      <td>12579.0</td>\n",
       "      <td>44.0</td>\n",
       "      <td>19</td>\n",
       "      <td>66</td>\n",
       "      <td>4.0</td>\n",
       "      <td>33580.0</td>\n",
       "      <td>2.0</td>\n",
       "      <td>5.0</td>\n",
       "      <td>33570.0</td>\n",
       "      <td>103.0</td>\n",
       "    </tr>\n",
       "    <tr>\n",
       "      <th>2018-03-31</th>\n",
       "      <td>2.0</td>\n",
       "      <td>6706.0</td>\n",
       "      <td>18.0</td>\n",
       "      <td>45</td>\n",
       "      <td>40</td>\n",
       "      <td>2.0</td>\n",
       "      <td>6706.0</td>\n",
       "      <td>18.0</td>\n",
       "      <td>5.0</td>\n",
       "      <td>20965.0</td>\n",
       "      <td>1.0</td>\n",
       "    </tr>\n",
       "    <tr>\n",
       "      <th>2018-03-31</th>\n",
       "      <td>1.0</td>\n",
       "      <td>6714.0</td>\n",
       "      <td>7.0</td>\n",
       "      <td>28</td>\n",
       "      <td>14</td>\n",
       "      <td>1.0</td>\n",
       "      <td>5042.0</td>\n",
       "      <td>32.0</td>\n",
       "      <td>1.0</td>\n",
       "      <td>3353.0</td>\n",
       "      <td>21.0</td>\n",
       "    </tr>\n",
       "    <tr>\n",
       "      <th>2018-03-31</th>\n",
       "      <td>1.0</td>\n",
       "      <td>5042.0</td>\n",
       "      <td>32.0</td>\n",
       "      <td>28</td>\n",
       "      <td>415</td>\n",
       "      <td>1.0</td>\n",
       "      <td>3353.0</td>\n",
       "      <td>21.0</td>\n",
       "      <td>2.0</td>\n",
       "      <td>16790.0</td>\n",
       "      <td>46.0</td>\n",
       "    </tr>\n",
       "  </tbody>\n",
       "</table>\n",
       "</div>"
      ],
      "text/plain": [
       "            Unidades(t-1)  Venta(t-1)  Inventario(t-1)  Local  Item  \\\n",
       "Fecha                                                                 \n",
       "2018-03-31            1.0      3353.0             17.0     19    70   \n",
       "2018-03-31            3.0     12579.0             44.0     19    66   \n",
       "2018-03-31            2.0      6706.0             18.0     45    40   \n",
       "2018-03-31            1.0      6714.0              7.0     28    14   \n",
       "2018-03-31            1.0      5042.0             32.0     28   415   \n",
       "\n",
       "            Unidades(t)  Venta(t)  Inventario(t)  Unidades(t+1)  Venta(t+1)  \\\n",
       "Fecha                                                                         \n",
       "2018-03-31          3.0   12579.0           44.0            4.0     33580.0   \n",
       "2018-03-31          4.0   33580.0            2.0            5.0     33570.0   \n",
       "2018-03-31          2.0    6706.0           18.0            5.0     20965.0   \n",
       "2018-03-31          1.0    5042.0           32.0            1.0      3353.0   \n",
       "2018-03-31          1.0    3353.0           21.0            2.0     16790.0   \n",
       "\n",
       "            Inventario(t+1)  \n",
       "Fecha                        \n",
       "2018-03-31              2.0  \n",
       "2018-03-31            103.0  \n",
       "2018-03-31              1.0  \n",
       "2018-03-31             21.0  \n",
       "2018-03-31             46.0  "
      ]
     },
     "execution_count": 57,
     "metadata": {},
     "output_type": "execute_result"
    }
   ],
   "source": [
    "#ejecutar borrado de columnas\n",
    "df_train.drop(labels=columns_to_drop, inplace=True, axis=1)\n",
    "df_train.rename({'Local(t)':'Local', 'Item(t)':'Item'}, inplace=True,axis='columns')\n",
    "df_train.tail()"
   ]
  },
  {
   "cell_type": "markdown",
   "metadata": {},
   "source": [
    "Incorporamos información foránea al modelo. En este caso, convertimos la fecha en dia, mes, año y día de la semana."
   ]
  },
  {
   "cell_type": "code",
   "execution_count": 58,
   "metadata": {},
   "outputs": [
    {
     "data": {
      "text/html": [
       "<div>\n",
       "<style scoped>\n",
       "    .dataframe tbody tr th:only-of-type {\n",
       "        vertical-align: middle;\n",
       "    }\n",
       "\n",
       "    .dataframe tbody tr th {\n",
       "        vertical-align: top;\n",
       "    }\n",
       "\n",
       "    .dataframe thead th {\n",
       "        text-align: right;\n",
       "    }\n",
       "</style>\n",
       "<table border=\"1\" class=\"dataframe\">\n",
       "  <thead>\n",
       "    <tr style=\"text-align: right;\">\n",
       "      <th></th>\n",
       "      <th>Unidades(t-1)</th>\n",
       "      <th>Venta(t-1)</th>\n",
       "      <th>Inventario(t-1)</th>\n",
       "      <th>Local</th>\n",
       "      <th>Item</th>\n",
       "      <th>Unidades(t)</th>\n",
       "      <th>Venta(t)</th>\n",
       "      <th>Inventario(t)</th>\n",
       "      <th>Unidades(t+1)</th>\n",
       "      <th>Venta(t+1)</th>\n",
       "      <th>Inventario(t+1)</th>\n",
       "      <th>weekend</th>\n",
       "    </tr>\n",
       "    <tr>\n",
       "      <th>Fecha</th>\n",
       "      <th></th>\n",
       "      <th></th>\n",
       "      <th></th>\n",
       "      <th></th>\n",
       "      <th></th>\n",
       "      <th></th>\n",
       "      <th></th>\n",
       "      <th></th>\n",
       "      <th></th>\n",
       "      <th></th>\n",
       "      <th></th>\n",
       "      <th></th>\n",
       "    </tr>\n",
       "  </thead>\n",
       "  <tbody>\n",
       "    <tr>\n",
       "      <th>2018-03-31</th>\n",
       "      <td>1.0</td>\n",
       "      <td>3353.0</td>\n",
       "      <td>17.0</td>\n",
       "      <td>19</td>\n",
       "      <td>70</td>\n",
       "      <td>3.0</td>\n",
       "      <td>12579.0</td>\n",
       "      <td>44.0</td>\n",
       "      <td>4.0</td>\n",
       "      <td>33580.0</td>\n",
       "      <td>2.0</td>\n",
       "      <td>1</td>\n",
       "    </tr>\n",
       "    <tr>\n",
       "      <th>2018-03-31</th>\n",
       "      <td>3.0</td>\n",
       "      <td>12579.0</td>\n",
       "      <td>44.0</td>\n",
       "      <td>19</td>\n",
       "      <td>66</td>\n",
       "      <td>4.0</td>\n",
       "      <td>33580.0</td>\n",
       "      <td>2.0</td>\n",
       "      <td>5.0</td>\n",
       "      <td>33570.0</td>\n",
       "      <td>103.0</td>\n",
       "      <td>1</td>\n",
       "    </tr>\n",
       "    <tr>\n",
       "      <th>2018-03-31</th>\n",
       "      <td>2.0</td>\n",
       "      <td>6706.0</td>\n",
       "      <td>18.0</td>\n",
       "      <td>45</td>\n",
       "      <td>40</td>\n",
       "      <td>2.0</td>\n",
       "      <td>6706.0</td>\n",
       "      <td>18.0</td>\n",
       "      <td>5.0</td>\n",
       "      <td>20965.0</td>\n",
       "      <td>1.0</td>\n",
       "      <td>1</td>\n",
       "    </tr>\n",
       "    <tr>\n",
       "      <th>2018-03-31</th>\n",
       "      <td>1.0</td>\n",
       "      <td>6714.0</td>\n",
       "      <td>7.0</td>\n",
       "      <td>28</td>\n",
       "      <td>14</td>\n",
       "      <td>1.0</td>\n",
       "      <td>5042.0</td>\n",
       "      <td>32.0</td>\n",
       "      <td>1.0</td>\n",
       "      <td>3353.0</td>\n",
       "      <td>21.0</td>\n",
       "      <td>1</td>\n",
       "    </tr>\n",
       "    <tr>\n",
       "      <th>2018-03-31</th>\n",
       "      <td>1.0</td>\n",
       "      <td>5042.0</td>\n",
       "      <td>32.0</td>\n",
       "      <td>28</td>\n",
       "      <td>415</td>\n",
       "      <td>1.0</td>\n",
       "      <td>3353.0</td>\n",
       "      <td>21.0</td>\n",
       "      <td>2.0</td>\n",
       "      <td>16790.0</td>\n",
       "      <td>46.0</td>\n",
       "      <td>1</td>\n",
       "    </tr>\n",
       "  </tbody>\n",
       "</table>\n",
       "</div>"
      ],
      "text/plain": [
       "            Unidades(t-1)  Venta(t-1)  Inventario(t-1)  Local  Item  \\\n",
       "Fecha                                                                 \n",
       "2018-03-31            1.0      3353.0             17.0     19    70   \n",
       "2018-03-31            3.0     12579.0             44.0     19    66   \n",
       "2018-03-31            2.0      6706.0             18.0     45    40   \n",
       "2018-03-31            1.0      6714.0              7.0     28    14   \n",
       "2018-03-31            1.0      5042.0             32.0     28   415   \n",
       "\n",
       "            Unidades(t)  Venta(t)  Inventario(t)  Unidades(t+1)  Venta(t+1)  \\\n",
       "Fecha                                                                         \n",
       "2018-03-31          3.0   12579.0           44.0            4.0     33580.0   \n",
       "2018-03-31          4.0   33580.0            2.0            5.0     33570.0   \n",
       "2018-03-31          2.0    6706.0           18.0            5.0     20965.0   \n",
       "2018-03-31          1.0    5042.0           32.0            1.0      3353.0   \n",
       "2018-03-31          1.0    3353.0           21.0            2.0     16790.0   \n",
       "\n",
       "            Inventario(t+1)  weekend  \n",
       "Fecha                                 \n",
       "2018-03-31              2.0        1  \n",
       "2018-03-31            103.0        1  \n",
       "2018-03-31              1.0        1  \n",
       "2018-03-31             21.0        1  \n",
       "2018-03-31             46.0        1  "
      ]
     },
     "execution_count": 58,
     "metadata": {},
     "output_type": "execute_result"
    }
   ],
   "source": [
    "def expand_df(df):\n",
    "    data = df.copy()\n",
    "    #data['month'] = data.index.month\n",
    "    #data['year'] = data.index.year\n",
    "    data['weekend'] = np.int32(data.index.dayofweek > 3)\n",
    "    return data\n",
    "\n",
    "df_train=expand_df(df_train)\n",
    "df_train.tail()"
   ]
  },
  {
   "cell_type": "markdown",
   "metadata": {},
   "source": [
    "A continuacion, separamos la variable dependientes $y$ de las independentes $X$. En este caso, la etiqueta corresponde a la columna : sales(t+1)"
   ]
  },
  {
   "cell_type": "code",
   "execution_count": 9,
   "metadata": {},
   "outputs": [],
   "source": [
    "labels_col = 'Venta(t+%d)' % lag\n",
    "X = df_train.drop(labels_col, axis=1)\n",
    "y = df_train[labels_col]"
   ]
  },
  {
   "cell_type": "markdown",
   "metadata": {},
   "source": [
    "Transformamos las etiquetas store e item en variables categoricas"
   ]
  },
  {
   "cell_type": "code",
   "execution_count": 10,
   "metadata": {},
   "outputs": [
    {
     "name": "stderr",
     "output_type": "stream",
     "text": [
      "/home/pc/env/local/lib/python2.7/site-packages/sklearn/preprocessing/_encoders.py:368: FutureWarning: The handling of integer data will change in version 0.22. Currently, the categories are determined based on the range [0, max(values)], while in the future they will be determined based on the unique values.\n",
      "If you want the future behaviour and silence this warning, you can specify \"categories='auto'\".\n",
      "In case you used a LabelEncoder before this OneHotEncoder to convert the categories to integers, then you can now use the OneHotEncoder directly.\n",
      "  warnings.warn(msg, FutureWarning)\n"
     ]
    }
   ],
   "source": [
    "from sklearn.preprocessing import OneHotEncoder\n",
    "\n",
    "Local_ohe = OneHotEncoder()\n",
    "Item_ohe = OneHotEncoder()\n",
    "\n",
    "X_Local = pd.DataFrame(Local_ohe.fit_transform(X.Local.values.reshape(-1,1)).toarray())\n",
    "X_Item = pd.DataFrame(Item_ohe.fit_transform(X.Item.values.reshape(-1,1)).toarray())\n",
    "\n",
    "X = X.drop(['Local','Item'], axis=1)\n",
    "\n",
    "X_Local.columns=[u+str(v) for u,v in zip(['Local_']*88,range(1,89))]\n",
    "X_Item.columns=[u+str(v) for u,v in zip(['Item_']*447,range(1,448))]\n",
    "\n"
   ]
  },
  {
   "cell_type": "code",
   "execution_count": 11,
   "metadata": {},
   "outputs": [
    {
     "name": "stdout",
     "output_type": "stream",
     "text": [
      "(128234, 544)\n",
      "(128234,)\n"
     ]
    }
   ],
   "source": [
    "X = np.concatenate([X,X_Item,X_Local],axis=1)\n",
    "y = y.values\n",
    "\n",
    "print X.shape\n",
    "print y.shape"
   ]
  },
  {
   "cell_type": "code",
   "execution_count": 12,
   "metadata": {},
   "outputs": [
    {
     "name": "stdout",
     "output_type": "stream",
     "text": [
      "('Train set shape', (102587, 544))\n",
      "('Validation set shape', (25647, 544))\n",
      "(102587, 1, 544)\n"
     ]
    }
   ],
   "source": [
    "from sklearn.model_selection import train_test_split\n",
    "\n",
    "X_train, X_test, y_train, y_test = train_test_split(X,y, test_size=0.2, random_state=0)\n",
    "print('Train set shape', X_train.shape)\n",
    "print('Validation set shape', X_test.shape)\n",
    "\n",
    "# convertir a tensor\n",
    "X_train=X_train.reshape((X_train.shape[0],1,X_train.shape[1]))\n",
    "X_test=X_test.reshape((X_test.shape[0],1,X_test.shape[1]))\n",
    "print X_train.shape"
   ]
  },
  {
   "cell_type": "markdown",
   "metadata": {},
   "source": [
    "# LSTM Model Training"
   ]
  },
  {
   "cell_type": "code",
   "execution_count": 13,
   "metadata": {},
   "outputs": [
    {
     "name": "stderr",
     "output_type": "stream",
     "text": [
      "Using TensorFlow backend.\n"
     ]
    },
    {
     "name": "stdout",
     "output_type": "stream",
     "text": [
      "_________________________________________________________________\n",
      "Layer (type)                 Output Shape              Param #   \n",
      "=================================================================\n",
      "lstm_1 (LSTM)                (None, 50)                119000    \n",
      "_________________________________________________________________\n",
      "dense_1 (Dense)              (None, 1)                 51        \n",
      "=================================================================\n",
      "Total params: 119,051\n",
      "Trainable params: 119,051\n",
      "Non-trainable params: 0\n",
      "_________________________________________________________________\n"
     ]
    }
   ],
   "source": [
    "import keras   # Keras es una biblioteca de Redes Neuronalescapaz de ejecutarse sobre TensorFlow\n",
    "from keras.layers import Dense #Una capa densa es solo una capa regular de neuronas en una red neuronal. recibe información de todas las neuronas en la capa anterior, por lo tanto, está densamente conectada.\n",
    "from keras.models import Sequential#El modelo secuencial es una pila lineal de capas.\n",
    "from keras.utils import np_utils\n",
    "import itertools\n",
    "from keras.layers import LSTM\n",
    "from keras import optimizers\n",
    "import keras.backend as K\n",
    "\n",
    "def mean_pred(y_true, y_pred):\n",
    "    return K.mean(y_pred)\n",
    "\n",
    "epochs = 40\n",
    "batch_size = 256\n",
    "lr = 0.0003\n",
    "\n",
    "model = Sequential()\n",
    "model.add(LSTM(50, activation='relu', input_shape=(X_train.shape[1], X_train.shape[2])))\n",
    "model.add(Dense(1))\n",
    "model.compile(loss='mse',optimizer=\"rmsprop\", metrics=['mape'])\n",
    "model.summary()"
   ]
  },
  {
   "cell_type": "code",
   "execution_count": 14,
   "metadata": {},
   "outputs": [
    {
     "name": "stdout",
     "output_type": "stream",
     "text": [
      "Train on 102587 samples, validate on 25647 samples\n",
      "Epoch 1/40\n",
      "102587/102587 [==============================] - 9s 89us/step - loss: 272743135.2972 - mean_absolute_percentage_error: 126.7250 - val_loss: 274887057.7050 - val_mean_absolute_percentage_error: 134.9661\n",
      "Epoch 2/40\n",
      "102587/102587 [==============================] - 8s 77us/step - loss: 261742238.8636 - mean_absolute_percentage_error: 134.2325 - val_loss: 269200863.3375 - val_mean_absolute_percentage_error: 130.7143\n",
      "Epoch 3/40\n",
      "102587/102587 [==============================] - 8s 76us/step - loss: 257453275.6334 - mean_absolute_percentage_error: 139.2179 - val_loss: 266488835.2615 - val_mean_absolute_percentage_error: 145.9140\n",
      "Epoch 4/40\n",
      "102587/102587 [==============================] - 8s 77us/step - loss: 254691188.1858 - mean_absolute_percentage_error: 141.6325 - val_loss: 263681223.0695 - val_mean_absolute_percentage_error: 138.4552\n",
      "Epoch 5/40\n",
      "102587/102587 [==============================] - 8s 78us/step - loss: 252678321.0798 - mean_absolute_percentage_error: 141.9514 - val_loss: 262168970.5157 - val_mean_absolute_percentage_error: 148.4666\n",
      "Epoch 6/40\n",
      "102587/102587 [==============================] - 8s 77us/step - loss: 250587109.4725 - mean_absolute_percentage_error: 142.5114 - val_loss: 259752086.3839 - val_mean_absolute_percentage_error: 133.1728\n",
      "Epoch 7/40\n",
      "102587/102587 [==============================] - 8s 77us/step - loss: 248103848.6353 - mean_absolute_percentage_error: 142.8998 - val_loss: 256893631.3911 - val_mean_absolute_percentage_error: 136.3994\n",
      "Epoch 8/40\n",
      "102587/102587 [==============================] - 8s 77us/step - loss: 245153410.2447 - mean_absolute_percentage_error: 142.4889 - val_loss: 254147183.0885 - val_mean_absolute_percentage_error: 131.1304\n",
      "Epoch 9/40\n",
      "102587/102587 [==============================] - 8s 77us/step - loss: 241614232.3711 - mean_absolute_percentage_error: 141.8064 - val_loss: 250274483.3158 - val_mean_absolute_percentage_error: 141.9599\n",
      "Epoch 10/40\n",
      "102587/102587 [==============================] - 8s 77us/step - loss: 237448913.9578 - mean_absolute_percentage_error: 140.7679 - val_loss: 246412811.6436 - val_mean_absolute_percentage_error: 149.5996\n",
      "Epoch 11/40\n",
      "102587/102587 [==============================] - 8s 77us/step - loss: 232261041.6132 - mean_absolute_percentage_error: 139.8214 - val_loss: 241801234.9153 - val_mean_absolute_percentage_error: 120.6033\n",
      "Epoch 12/40\n",
      "102587/102587 [==============================] - 8s 77us/step - loss: 226459391.0817 - mean_absolute_percentage_error: 137.4982 - val_loss: 235033770.0353 - val_mean_absolute_percentage_error: 147.9730\n",
      "Epoch 13/40\n",
      "102587/102587 [==============================] - 8s 77us/step - loss: 219771348.1470 - mean_absolute_percentage_error: 135.9233 - val_loss: 227495705.9124 - val_mean_absolute_percentage_error: 142.0931\n",
      "Epoch 14/40\n",
      "102587/102587 [==============================] - 8s 78us/step - loss: 212184617.8035 - mean_absolute_percentage_error: 133.9093 - val_loss: 220967392.7349 - val_mean_absolute_percentage_error: 129.5675\n",
      "Epoch 15/40\n",
      "102587/102587 [==============================] - 8s 78us/step - loss: 207263540.0846 - mean_absolute_percentage_error: 134.4291 - val_loss: 211954763.7809 - val_mean_absolute_percentage_error: 128.6046\n",
      "Epoch 16/40\n",
      "102587/102587 [==============================] - 8s 78us/step - loss: 196670276.4737 - mean_absolute_percentage_error: 128.6859 - val_loss: 206146549.3570 - val_mean_absolute_percentage_error: 132.1534\n",
      "Epoch 17/40\n",
      "102587/102587 [==============================] - 8s 78us/step - loss: 189181651.8919 - mean_absolute_percentage_error: 125.7699 - val_loss: 199871304.0402 - val_mean_absolute_percentage_error: 102.5545\n",
      "Epoch 18/40\n",
      "102587/102587 [==============================] - 8s 79us/step - loss: 183881006.2225 - mean_absolute_percentage_error: 122.9481 - val_loss: 193445633.4286 - val_mean_absolute_percentage_error: 125.9402\n",
      "Epoch 19/40\n",
      "102587/102587 [==============================] - 8s 78us/step - loss: 179605094.9584 - mean_absolute_percentage_error: 120.9668 - val_loss: 189025499.9612 - val_mean_absolute_percentage_error: 119.0022\n",
      "Epoch 20/40\n",
      "102587/102587 [==============================] - 8s 79us/step - loss: 177270429.5911 - mean_absolute_percentage_error: 119.5012 - val_loss: 187869301.7239 - val_mean_absolute_percentage_error: 126.4132\n",
      "Epoch 21/40\n",
      "102587/102587 [==============================] - 8s 78us/step - loss: 175529804.7159 - mean_absolute_percentage_error: 118.2575 - val_loss: 184933254.3933 - val_mean_absolute_percentage_error: 109.1185\n",
      "Epoch 22/40\n",
      "102587/102587 [==============================] - 8s 78us/step - loss: 174673450.8567 - mean_absolute_percentage_error: 117.3713 - val_loss: 183946913.4099 - val_mean_absolute_percentage_error: 105.5510\n",
      "Epoch 23/40\n",
      "102587/102587 [==============================] - 8s 78us/step - loss: 173902470.7190 - mean_absolute_percentage_error: 116.4108 - val_loss: 182843511.9722 - val_mean_absolute_percentage_error: 109.6462\n",
      "Epoch 24/40\n",
      "102587/102587 [==============================] - 8s 78us/step - loss: 173072114.9680 - mean_absolute_percentage_error: 115.6949 - val_loss: 182195380.7432 - val_mean_absolute_percentage_error: 113.0598\n",
      "Epoch 25/40\n",
      "102587/102587 [==============================] - 8s 79us/step - loss: 172217190.1600 - mean_absolute_percentage_error: 115.1704 - val_loss: 181399134.2045 - val_mean_absolute_percentage_error: 121.2570\n",
      "Epoch 26/40\n",
      "102587/102587 [==============================] - 8s 78us/step - loss: 173112096.1251 - mean_absolute_percentage_error: 116.2850 - val_loss: 180034563.6508 - val_mean_absolute_percentage_error: 112.3612\n",
      "Epoch 27/40\n",
      "102587/102587 [==============================] - 8s 78us/step - loss: 171164494.1542 - mean_absolute_percentage_error: 114.0604 - val_loss: 185212700.2057 - val_mean_absolute_percentage_error: 141.9131\n",
      "Epoch 28/40\n",
      "102587/102587 [==============================] - 8s 79us/step - loss: 170637374.4102 - mean_absolute_percentage_error: 113.7610 - val_loss: 179540659.7525 - val_mean_absolute_percentage_error: 123.3095\n",
      "Epoch 29/40\n",
      "102587/102587 [==============================] - 8s 78us/step - loss: 171596265.0603 - mean_absolute_percentage_error: 114.5550 - val_loss: 182579531.1820 - val_mean_absolute_percentage_error: 134.8245\n",
      "Epoch 30/40\n",
      "102587/102587 [==============================] - 8s 79us/step - loss: 171447195.2558 - mean_absolute_percentage_error: 113.9311 - val_loss: 181630858.4034 - val_mean_absolute_percentage_error: 91.6641\n",
      "Epoch 31/40\n",
      "102587/102587 [==============================] - 8s 79us/step - loss: 171339299.2799 - mean_absolute_percentage_error: 113.1517 - val_loss: 181156123.1926 - val_mean_absolute_percentage_error: 96.1984\n",
      "Epoch 32/40\n",
      "102587/102587 [==============================] - 8s 79us/step - loss: 171355553.6829 - mean_absolute_percentage_error: 112.4561 - val_loss: 178332377.2661 - val_mean_absolute_percentage_error: 106.3645\n",
      "Epoch 33/40\n",
      "102587/102587 [==============================] - 8s 78us/step - loss: 170798282.9438 - mean_absolute_percentage_error: 112.2836 - val_loss: 177770078.5065 - val_mean_absolute_percentage_error: 111.4988\n",
      "Epoch 34/40\n",
      "102587/102587 [==============================] - 8s 79us/step - loss: 170745937.3522 - mean_absolute_percentage_error: 111.7323 - val_loss: 186293367.7052 - val_mean_absolute_percentage_error: 148.5168\n",
      "Epoch 35/40\n",
      "102587/102587 [==============================] - 8s 79us/step - loss: 170015508.0536 - mean_absolute_percentage_error: 111.0310 - val_loss: 180130397.9400 - val_mean_absolute_percentage_error: 129.5088\n",
      "Epoch 36/40\n",
      "102587/102587 [==============================] - 8s 78us/step - loss: 169566186.6835 - mean_absolute_percentage_error: 110.2905 - val_loss: 178921800.3072 - val_mean_absolute_percentage_error: 93.7506\n",
      "Epoch 37/40\n",
      "102587/102587 [==============================] - 8s 79us/step - loss: 168793125.3630 - mean_absolute_percentage_error: 109.5522 - val_loss: 179490322.8953 - val_mean_absolute_percentage_error: 124.1268\n",
      "Epoch 38/40\n",
      "102587/102587 [==============================] - 8s 79us/step - loss: 168292864.5309 - mean_absolute_percentage_error: 109.1907 - val_loss: 182617519.5627 - val_mean_absolute_percentage_error: 137.5698\n",
      "Epoch 39/40\n"
     ]
    },
    {
     "name": "stdout",
     "output_type": "stream",
     "text": [
      "102587/102587 [==============================] - 8s 75us/step - loss: 167636618.1344 - mean_absolute_percentage_error: 109.1050 - val_loss: 174921781.6253 - val_mean_absolute_percentage_error: 95.4168\n",
      "Epoch 40/40\n",
      "102587/102587 [==============================] - 8s 75us/step - loss: 167199912.0625 - mean_absolute_percentage_error: 108.0951 - val_loss: 173767676.6212 - val_mean_absolute_percentage_error: 103.4522\n"
     ]
    }
   ],
   "source": [
    "history = model.fit(X_train, y_train, validation_data=(X_test,y_test), epochs=epochs, verbose=1)"
   ]
  },
  {
   "cell_type": "code",
   "execution_count": 16,
   "metadata": {},
   "outputs": [],
   "source": [
    "model.save('lstm_continuous_input.h5')"
   ]
  },
  {
   "cell_type": "code",
   "execution_count": null,
   "metadata": {},
   "outputs": [],
   "source": []
  },
  {
   "cell_type": "code",
   "execution_count": null,
   "metadata": {},
   "outputs": [],
   "source": []
  }
 ],
 "metadata": {
  "kernelspec": {
   "display_name": "Python 2",
   "language": "python",
   "name": "python2"
  },
  "language_info": {
   "codemirror_mode": {
    "name": "ipython",
    "version": 2
   },
   "file_extension": ".py",
   "mimetype": "text/x-python",
   "name": "python",
   "nbconvert_exporter": "python",
   "pygments_lexer": "ipython2",
   "version": "2.7.15rc1"
  }
 },
 "nbformat": 4,
 "nbformat_minor": 2
}
